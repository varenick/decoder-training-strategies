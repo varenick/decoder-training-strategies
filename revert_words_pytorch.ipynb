{
 "cells": [
  {
   "cell_type": "code",
   "execution_count": 1,
   "metadata": {},
   "outputs": [
    {
     "name": "stdout",
     "output_type": "stream",
     "text": [
      "28\n"
     ]
    }
   ],
   "source": [
    "text = []\n",
    "\n",
    "with open('text8') as f:\n",
    "    for line in f:\n",
    "        text.append(line)\n",
    "    text = ''.join(text)\n",
    "\n",
    "vocab_size = len(set(text)) + 1\n",
    "print(vocab_size)"
   ]
  },
  {
   "cell_type": "code",
   "execution_count": 2,
   "metadata": {},
   "outputs": [
    {
     "name": "stdout",
     "output_type": "stream",
     "text": [
      " anarchism\n",
      "[ 1  2 15  2 19  4  9 10 20 14]\n"
     ]
    }
   ],
   "source": [
    "EOS_id = 0\n",
    "\n",
    "def char_to_id(char):\n",
    "    if char == ' ':\n",
    "        return 1\n",
    "    else:\n",
    "        return ord(char) - ord('a') + 2\n",
    "\n",
    "def id_to_char(i):\n",
    "    if i == 0:\n",
    "        return ''\n",
    "    elif i == 1:\n",
    "        return ' '\n",
    "    else:\n",
    "        return chr(ord('a') + i - 2)\n",
    "    \n",
    "import numpy as np\n",
    "\n",
    "text_ids = {'full': np.array(list(map(char_to_id, text)))}\n",
    "print(text[:10])\n",
    "print(text_ids['full'][:10])"
   ]
  },
  {
   "cell_type": "code",
   "execution_count": 3,
   "metadata": {},
   "outputs": [
    {
     "name": "stdout",
     "output_type": "stream",
     "text": [
      "100000000\n"
     ]
    }
   ],
   "source": [
    "text_length = len(text)\n",
    "print(text_length)\n",
    "\n",
    "text_ids['train'] = text_ids['full'][:int(text_length * 0.8)]\n",
    "text_ids['eval'] = text_ids['full'][int(text_length * 0.8):int(text_length * 0.9)]\n",
    "text_ids['decode'] = text_ids['full'][int(text_length * 0.9):]"
   ]
  },
  {
   "cell_type": "code",
   "execution_count": 4,
   "metadata": {
    "collapsed": true
   },
   "outputs": [],
   "source": [
    "def get_batch(text, chunk_length, batch_size):\n",
    "    while True:\n",
    "        chunk_starts = np.random.randint(len(text) - chunk_length, size=batch_size)\n",
    "        yield np.array([text[chunk_start:chunk_start + chunk_length] for chunk_start in chunk_starts])"
   ]
  },
  {
   "cell_type": "code",
   "execution_count": 5,
   "metadata": {},
   "outputs": [
    {
     "name": "stdout",
     "output_type": "stream",
     "text": [
      "[[ 1  5  6  4 13 10 15  6  5  1]\n",
      " [ 2 19 12  6 21  1 24 10 21  9]]\n",
      "[[ 1  5  6 15 10 13  4  6  5  1]\n",
      " [21  6 12 19  2  1  9 21 10 24]]\n"
     ]
    }
   ],
   "source": [
    "def revert_words(chunk_batch):\n",
    "    rev_chunk_batch = []\n",
    "    for chunk in chunk_batch:\n",
    "        words = np.split(chunk, np.flatnonzero(chunk == char_to_id(' ')))\n",
    "        rev_chunk = np.hstack([words[0][::-1]] + [np.roll(word[::-1], 1) for word in words[1:]])\n",
    "        rev_chunk_batch.append(rev_chunk)\n",
    "    return np.array(rev_chunk_batch)\n",
    "\n",
    "chunk_batch = next(get_batch(text_ids['decode'], 10, 2))\n",
    "print(chunk_batch)\n",
    "print(revert_words(chunk_batch))"
   ]
  },
  {
   "cell_type": "code",
   "execution_count": 6,
   "metadata": {
    "collapsed": true
   },
   "outputs": [],
   "source": [
    "import numpy as np\n",
    "\n",
    "import torch\n",
    "import torch.nn as nn\n",
    "import torch.autograd as autograd\n",
    "import torch.nn.functional as F\n",
    "import torch.optim as optim"
   ]
  },
  {
   "cell_type": "code",
   "execution_count": 112,
   "metadata": {
    "collapsed": true
   },
   "outputs": [],
   "source": [
    "train_losses_av_mean = {}\n",
    "train_accs_av_mean = {}\n",
    "\n",
    "train_losses_pav_av_mean = {}\n",
    "train_accs_pav_av_mean = {}\n",
    "\n",
    "#eval_losses_av_mean = {}\n",
    "#eval_accs_av_mean = {}\n",
    "\n",
    "train_losses_pav_av_std = {}\n",
    "train_accs_pav_av_std = {}\n",
    "\n",
    "train_losses_av_std = {}\n",
    "train_accs_av_std = {}\n",
    "\n",
    "#eval_losses_av_std = {}\n",
    "#eval_accs_av_std = {}"
   ]
  },
  {
   "cell_type": "code",
   "execution_count": 263,
   "metadata": {
    "collapsed": true
   },
   "outputs": [],
   "source": [
    "class Seq2SeqModel(nn.Module):\n",
    "    def __init__(self, vocab_size, embed_dim, num_hidden, num_layers=1, dropout_rate=0.2):\n",
    "        super(Seq2SeqModel, self).__init__()\n",
    "        \n",
    "        self.vocab_size = vocab_size\n",
    "        self.embed_dim = embed_dim\n",
    "        self.num_hidden = num_hidden\n",
    "        self.num_layers = num_layers\n",
    "        \n",
    "        self.embedding = nn.Embedding(vocab_size, embed_dim)\n",
    "        self.enc_rnn = nn.LSTM(embed_dim, num_hidden, num_layers,\n",
    "                               batch_first=True, bidirectional=True)\n",
    "        self.dec_cell = nn.LSTMCell(embed_dim, num_hidden * num_layers * 2)\n",
    "        self.output_proj = nn.Linear(num_hidden * num_layers * 2, vocab_size)\n",
    "        self.dropout = nn.Dropout(p=dropout_rate)\n",
    "        \n",
    "    def forward(self, input_chunk, target_chunk=None, feed_mode='same', output_mode='argmax', baseline_mode=None):\n",
    "        need_target_chunk = (feed_mode == 'teacher-forcing')\n",
    "        if target_chunk is None and need_target_chunk:\n",
    "            raise ValueError(\"You should provide target_chunk when using feed_mode '{}'\".format(feed_mode))\n",
    "        if feed_mode not in ['same', 'teacher-forcing', 'argmax', 'sampling']:\n",
    "            raise ValueError(\"Invalid feed_mode: '{}'\".format(feed_mode))\n",
    "        if output_mode not in ['argmax', 'sampling']:\n",
    "            raise ValueError(\"Invalid output_mode: '{}'\".format(output_mode))\n",
    "        if baseline_mode not in [None, 'argmax']:\n",
    "            raise ValueError(\"Invalid baseline_mode: '{}'\".format(baseline_mode))\n",
    "            \n",
    "        batch_size, chunk_length = input_chunk.size()\n",
    "        \n",
    "        # Encoder:\n",
    "        input_chunk_emb = self.embedding(input_chunk)\n",
    "        enc_h_first = autograd.Variable(\n",
    "            torch.zeros(self.num_layers * 2, batch_size, self.num_hidden).cuda(),\n",
    "            requires_grad=False\n",
    "        )\n",
    "        enc_c_first = autograd.Variable(\n",
    "            torch.zeros(self.num_layers * 2, batch_size, self.num_hidden).cuda(),\n",
    "            requires_grad=False\n",
    "        )\n",
    "        _, enc_hc_last = self.enc_rnn(input_chunk_emb, (enc_h_first, enc_c_first))\n",
    "        \n",
    "        # Decoder:\n",
    "        dec_h = torch.transpose(enc_hc_last[0], 0, 1).contiguous().view(batch_size, -1)\n",
    "        dec_c = torch.transpose(enc_hc_last[1], 0, 1).contiguous().view(batch_size, -1)\n",
    "        \n",
    "        dec_h_baseline = torch.transpose(enc_hc_last[0], 0, 1).contiguous().view(batch_size, -1)\n",
    "        dec_c_baseline = torch.transpose(enc_hc_last[1], 0, 1).contiguous().view(batch_size, -1)\n",
    "        \n",
    "        dec_feed = None\n",
    "        dec_feed_emb = autograd.Variable(\n",
    "            torch.zeros(batch_size, self.embed_dim).cuda(),\n",
    "            requires_grad=False\n",
    "        )\n",
    "        \n",
    "        dec_feed_baseline = None\n",
    "        dec_feed_baseline_emb = autograd.Variable(\n",
    "            torch.zeros(batch_size, self.embed_dim).cuda(),\n",
    "            requires_grad=False\n",
    "        )\n",
    "        \n",
    "        dec_unscaled_logits = []\n",
    "        dec_unscaled_logits_baseline = []\n",
    "        dec_outputs = []\n",
    "        self.dec_feeds = []\n",
    "        \n",
    "        target_chunk_emb = None\n",
    "        if need_target_chunk:\n",
    "            target_chunk_emb = self.embedding(target_chunk)\n",
    "            \n",
    "        for t in range(chunk_length):\n",
    "            dec_h, dec_c = self.dec_cell(self.dropout(dec_feed_emb), (dec_h, dec_c))\n",
    "            dec_unscaled_logits.append(self.output_proj(dec_h))\n",
    "            \n",
    "            if baseline_mode is not None:\n",
    "                dec_h_baseline, dec_c_baseline = self.dec_cell(\n",
    "                    dec_feed_baseline_emb, (dec_h_baseline, dec_c_baseline)\n",
    "                )\n",
    "                dec_unscaled_logits_baseline.append(self.output_proj(dec_h_baseline))\n",
    "            \n",
    "            if output_mode == 'argmax':\n",
    "                dec_outputs.append(torch.max(dec_unscaled_logits[-1], dim=1)[1])\n",
    "            elif output_mode == 'sampling':\n",
    "                dec_outputs.append(torch.multinomial(torch.exp(dec_unscaled_logits[-1]), 1).view(batch_size))\n",
    "            else:\n",
    "                raise ValueError(\"Invalid output_mode: '{}'\".format(output_mode))\n",
    "                \n",
    "            if feed_mode == 'same':\n",
    "                dec_feed = dec_outputs[-1]\n",
    "                dec_feed_emb = self.embedding(dec_feed.view(batch_size, 1)).view(batch_size, self.embed_dim)\n",
    "            elif feed_mode == 'teacher-forcing':\n",
    "                dec_feed = target_chunk[:, t]\n",
    "                dec_feed_emb = target_chunk_emb[:, t]\n",
    "            elif feed_mode == 'argmax':\n",
    "                dec_feed = torch.max(dec_unscaled_logits[-1], dim=1)[1]\n",
    "                dec_feed_emb = self.embedding(dec_feed.view(batch_size, 1)).view(batch_size, self.embed_dim)\n",
    "            elif feed_mode == 'sampling':\n",
    "                dec_feed = torch.multinomial(F.softmax(dec_unscaled_logits[-1]), 1)\n",
    "                dec_feed_emb = self.embedding(dec_feed.view(batch_size, 1)).view(batch_size, self.embed_dim)\n",
    "            else:\n",
    "                raise ValueError(\"Invalid feed_mode: '{}'\".format(feed_mode))\n",
    "            self.dec_feeds.append(dec_feed)\n",
    "        \n",
    "            if baseline_mode == 'argmax':\n",
    "                dec_feed_baseline = torch.max(dec_unscaled_logits_baseline[-1], dim=1)[1]\n",
    "                dec_feed_baseline_emb = self.embedding(\n",
    "                    dec_feed_baseline.view(batch_size, 1)\n",
    "                ).view(batch_size, self.embed_dim)\n",
    "            elif baseline_mode is not None:\n",
    "                raise ValueError(\"Invalid baseline_mode: '{}'\".format(baseline_mode))\n",
    "        \n",
    "        if baseline_mode is not None:\n",
    "            return (\n",
    "                torch.stack(dec_unscaled_logits, dim=1), \n",
    "                torch.stack(dec_unscaled_logits_baseline, dim=1), \n",
    "                torch.stack(dec_outputs, dim=1)\n",
    "            )\n",
    "        else:\n",
    "            return (\n",
    "                torch.stack(dec_unscaled_logits, dim=1), \n",
    "                None,\n",
    "                torch.stack(dec_outputs, dim=1)\n",
    "            )"
   ]
  },
  {
   "cell_type": "code",
   "execution_count": 89,
   "metadata": {
    "collapsed": true
   },
   "outputs": [],
   "source": [
    "loss_function = nn.CrossEntropyLoss()"
   ]
  },
  {
   "cell_type": "code",
   "execution_count": null,
   "metadata": {},
   "outputs": [
    {
     "name": "stdout",
     "output_type": "stream",
     "text": [
      "Run 0\n",
      "\n",
      "Step 1000\n",
      "Train loss: 2.06; train accuracy: 0.38\n",
      "1152.94s from last print\n",
      "\n",
      "Step 2000\n",
      "Train loss: 1.55; train accuracy: 0.52\n",
      "1111.01s from last print\n",
      "\n",
      "Step 3000\n",
      "Train loss: 1.39; train accuracy: 0.57\n",
      "1133.70s from last print\n",
      "\n",
      "Step 4000\n",
      "Train loss: 1.29; train accuracy: 0.60\n",
      "1112.61s from last print\n",
      "\n",
      "Step 5000\n",
      "Train loss: 1.18; train accuracy: 0.63\n",
      "1136.03s from last print\n",
      "\n"
     ]
    }
   ],
   "source": [
    "from time import time\n",
    "\n",
    "train_batch_size = 1024\n",
    "eval_batch_size = 64\n",
    "decode_batch_size = 8\n",
    "\n",
    "chunk_length = 32\n",
    "\n",
    "train_batch_gen = get_batch(text_ids['train'], batch_size=train_batch_size, chunk_length=chunk_length)\n",
    "eval_batch_gen = get_batch(text_ids['eval'], batch_size=eval_batch_size, chunk_length=chunk_length)\n",
    "\n",
    "num_runs = 3\n",
    "\n",
    "num_steps = 20000\n",
    "print_skip = 1000\n",
    "\n",
    "train_losses = []\n",
    "train_accs = []\n",
    "\n",
    "train_losses_pav = []\n",
    "train_accs_pav = []\n",
    "\n",
    "eval_losses = []\n",
    "eval_accs = []\n",
    "\n",
    "reinforce_strategy = 'argmax_advantage'\n",
    "\n",
    "do_eval = False\n",
    "\n",
    "use_polyak_average = False\n",
    "\n",
    "av_advantage = None\n",
    "std_advantage = None\n",
    "\n",
    "grad_norms = None\n",
    "grad_norms_biased = None\n",
    "\n",
    "for run in range(num_runs):\n",
    "    print('Run', run)\n",
    "    print()\n",
    "    \n",
    "    train_losses.append([])\n",
    "    train_accs.append([])\n",
    "    cum_train_loss = 0\n",
    "    cum_train_acc = 0\n",
    "\n",
    "    train_losses_pav.append([])\n",
    "    train_accs_pav.append([])\n",
    "    cum_train_loss_pav = 0\n",
    "    cum_train_acc_pav = 0\n",
    "\n",
    "    train_av_loss = 0\n",
    "    batch_av_train_av_loss = 0\n",
    "\n",
    "    eval_losses.append([])\n",
    "    eval_accs.append([])\n",
    "    cum_eval_loss = 0\n",
    "    cum_eval_acc = 0\n",
    "    \n",
    "    global_start_time = time()\n",
    "    last_print_time = global_start_time\n",
    "\n",
    "    model = Seq2SeqModel(vocab_size=vocab_size, embed_dim=8, num_hidden=48).cuda()\n",
    "    \n",
    "    model_pav = None\n",
    "    if use_polyak_average:\n",
    "        model_pav = Seq2SeqModel(vocab_size=vocab_size, embed_dim=8, num_hidden=48).cuda()\n",
    "    \n",
    "    av_advantage = []\n",
    "    std_advantage = []\n",
    "    \n",
    "    grad_norms = []\n",
    "    grad_norms_biased = []\n",
    "\n",
    "    init_lr = 0.01\n",
    "    lr = init_lr\n",
    "    optimizer = optim.Adam(model.parameters(), lr=lr)\n",
    "    \n",
    "    for step in range(num_steps):        \n",
    "        # Train:\n",
    "        chunk_batch = next(train_batch_gen)\n",
    "        rev_chunk_batch = revert_words(chunk_batch)\n",
    "    \n",
    "        chunk_batch_torch = autograd.Variable(torch.from_numpy(chunk_batch).cuda(), requires_grad=False)\n",
    "        rev_chunk_batch_torch = autograd.Variable(torch.from_numpy(rev_chunk_batch).cuda(), requires_grad=False)\n",
    "    \n",
    "        if reinforce_strategy == 'argmax_advantage':\n",
    "            unscaled_logits, unscaled_logits_baseline, outputs = model(\n",
    "                chunk_batch_torch, rev_chunk_batch_torch,\n",
    "                output_mode='argmax', feed_mode='sampling', baseline_mode='argmax'\n",
    "            )\n",
    "        else:\n",
    "            unscaled_logits, _, outputs = model(\n",
    "                chunk_batch_torch, rev_chunk_batch_torch,\n",
    "                output_mode='argmax', feed_mode='sampling', baseline_mode=None\n",
    "            )\n",
    "        train_loss = loss_function(unscaled_logits.view(-1, vocab_size), rev_chunk_batch_torch.view(-1))\n",
    "        train_acc = torch.mean(torch.eq(outputs, rev_chunk_batch_torch).float())\n",
    "        \n",
    "        #for t, dec_feed in enumerate(model.dec_feeds):\n",
    "        #    dec_feed.reinforce(torch.zeros(train_batch_size, 1).cuda())\n",
    "        #optimizer.zero_grad()\n",
    "        #train_loss.backward()\n",
    "        \n",
    "        #grad_norms_biased.append([])\n",
    "        #for param in model.parameters():\n",
    "        #    grad_norms_biased[-1].append(torch.norm(param.grad.data))\n",
    "            \n",
    "        #for dec_feed in model.dec_feeds:\n",
    "        #    dec_feed.reward = autograd.stochastic_function._NOT_PROVIDED\n",
    "        \n",
    "        if reinforce_strategy == 'element':\n",
    "            rev_chunk_batch_torch_one_hot = torch.zeros(train_batch_size, chunk_length, vocab_size).cuda()\n",
    "            rev_chunk_batch_torch_one_hot.scatter_(\n",
    "                2, rev_chunk_batch_torch.data.view(train_batch_size, chunk_length, 1), 1\n",
    "            )\n",
    "            elemwise_train_loss = (-1) * F.log_softmax(\n",
    "                unscaled_logits.data.view(-1, vocab_size)\n",
    "            ).data.view(train_batch_size, chunk_length, vocab_size)[rev_chunk_batch_torch_one_hot.byte()].view(\n",
    "                train_batch_size, chunk_length\n",
    "            )\n",
    "            batch_av_train_loss = torch.mean(elemwise_train_loss, dim=0)\n",
    "            if step == 0:\n",
    "                batch_av_train_av_loss = batch_av_train_loss\n",
    "            else:\n",
    "                batch_av_train_av_loss = 0.99 * batch_av_train_av_loss + 0.01 * batch_av_train_loss\n",
    "            normed_batch_centered_train_loss = ((elemwise_train_loss - batch_av_train_av_loss) / \n",
    "                                                (train_batch_size * chunk_length))\n",
    "            seqwise_train_loss = torch.sum(normed_batch_centered_train_loss, dim=1)\n",
    "            seqwise_cum_train_loss = torch.cumsum(normed_batch_centered_train_loss, dim=1)\n",
    "            for t, dec_feed in enumerate(model.dec_feeds):\n",
    "                dec_feed.reinforce(\n",
    "                    (-1) * (seqwise_train_loss - seqwise_cum_train_loss[:, t]).view(train_batch_size, 1)\n",
    "                )\n",
    "                \n",
    "        elif reinforce_strategy == 'argmax_advantage':\n",
    "            rev_chunk_batch_torch_one_hot = torch.zeros(train_batch_size, chunk_length, vocab_size).cuda()\n",
    "            rev_chunk_batch_torch_one_hot.scatter_(\n",
    "                2, rev_chunk_batch_torch.data.view(train_batch_size, chunk_length, 1), 1\n",
    "            )\n",
    "            elemwise_train_loss = (-1) * F.log_softmax(\n",
    "                unscaled_logits.data.view(-1, vocab_size)\n",
    "            ).data.view(train_batch_size, chunk_length, vocab_size)[rev_chunk_batch_torch_one_hot.byte()].view(\n",
    "                train_batch_size, chunk_length\n",
    "            )\n",
    "            elemwise_train_loss_baseline = (-1) * F.log_softmax(\n",
    "                unscaled_logits_baseline.data.view(-1, vocab_size)\n",
    "            ).data.view(train_batch_size, chunk_length, vocab_size)[rev_chunk_batch_torch_one_hot.byte()].view(\n",
    "                train_batch_size, chunk_length\n",
    "            )\n",
    "            normed_elemwise_advantage = ((elemwise_train_loss_baseline - elemwise_train_loss) /\n",
    "                                         (train_batch_size * chunk_length))\n",
    "            sum_normed_elemwise_advantage = torch.sum(normed_elemwise_advantage, dim=1)\n",
    "            cumsum_normed_elemwise_advantage = torch.cumsum(normed_elemwise_advantage, dim=1)\n",
    "            for t, dec_feed in enumerate(model.dec_feeds):\n",
    "                dec_feed.reinforce(\n",
    "                    (sum_normed_elemwise_advantage - cumsum_normed_elemwise_advantage[:, t]).view(train_batch_size, 1)\n",
    "                )\n",
    "                \n",
    "            av_advantage.append(torch.mean(elemwise_train_loss_baseline - elemwise_train_loss, dim=0).cpu().numpy())\n",
    "            std_advantage.append(torch.std(elemwise_train_loss_baseline - elemwise_train_loss, dim=0).cpu().numpy())\n",
    "            \n",
    "        elif reinforce_strategy == 'sequence':\n",
    "            rev_chunk_batch_torch_one_hot = torch.zeros(train_batch_size, chunk_length, vocab_size).cuda()\n",
    "            rev_chunk_batch_torch_one_hot.scatter_(\n",
    "                2, rev_chunk_batch_torch.data.view(train_batch_size, chunk_length, 1), 1\n",
    "            )\n",
    "            elemwise_train_loss = (-1) * F.log_softmax(\n",
    "                unscaled_logits.data.view(-1, vocab_size)\n",
    "            ).data.view(train_batch_size, chunk_length, vocab_size)[rev_chunk_batch_torch_one_hot.byte()].view(\n",
    "                train_batch_size, chunk_length\n",
    "            )\n",
    "            if step == 0:\n",
    "                train_av_loss = train_loss.data\n",
    "            else:\n",
    "                train_av_loss = 0.99 * train_av_loss + 0.01 * train_loss.data\n",
    "            seq_av_train_loss = torch.mean(elemwise_train_loss, dim=1, keepdim=True)\n",
    "            for t, dec_feed in enumerate(model.dec_feeds):\n",
    "                dec_feed.reinforce(\n",
    "                    (-1) * (seq_av_train_loss - train_av_loss) / (train_batch_size * chunk_length)\n",
    "                )\n",
    "                \n",
    "        elif reinforce_strategy == 'none':\n",
    "            for t, dec_feed in enumerate(model.dec_feeds):\n",
    "                dec_feed.reinforce(torch.zeros(train_batch_size, 1).cuda())\n",
    "                \n",
    "        else:\n",
    "            raise ValueError(\"Invalid reinforce_strategy: '{}'\".format(reinforce_strategy))\n",
    "            \n",
    "        optimizer.zero_grad()\n",
    "        train_loss.backward()\n",
    "        #nn.utils.clip_grad_norm(model.parameters(), max_norm=5)\n",
    "        #lr = init_lr / (step + 1) ** 0.5\n",
    "        #for group in optimizer.param_groups:\n",
    "        #    group['lr'] = lr\n",
    "        optimizer.step()\n",
    "        \n",
    "        grad_norms.append([])\n",
    "        for param in model.parameters():\n",
    "            grad_norms[-1].append(torch.norm(param.grad.data))\n",
    "        \n",
    "        train_losses[run].append(train_loss.data.cpu().numpy().mean())\n",
    "        train_accs[run].append(train_acc.data.cpu().numpy().mean())\n",
    "\n",
    "        cum_train_loss += train_losses[run][-1]\n",
    "        cum_train_acc += train_accs[run][-1]\n",
    "        \n",
    "        if use_polyak_average:\n",
    "            for param, param_pav in zip(model.parameters(), model_pav.parameters()):\n",
    "                param_pav.data = 0.99 * param_pav.data + 0.01 * param.data\n",
    "            unscaled_logits, _, outputs = model_pav(\n",
    "                chunk_batch_torch, rev_chunk_batch_torch,\n",
    "                output_mode='argmax', feed_mode='sampling', baseline_mode=None\n",
    "            )\n",
    "            train_loss_pav = loss_function(unscaled_logits.view(-1, vocab_size), rev_chunk_batch_torch.view(-1))\n",
    "            train_acc_pav = torch.mean(torch.eq(outputs, rev_chunk_batch_torch).float())\n",
    "    \n",
    "            train_losses_pav[run].append(train_loss_pav.data.cpu().numpy().mean())\n",
    "            train_accs_pav[run].append(train_acc_pav.data.cpu().numpy().mean())\n",
    "\n",
    "            cum_train_loss_pav += train_losses_pav[run][-1]\n",
    "            cum_train_acc_pav += train_accs_pav[run][-1]\n",
    "        \n",
    "        # Eval:\n",
    "        if do_eval:\n",
    "            chunk_batch = next(eval_batch_gen)\n",
    "            rev_chunk_batch = revert_words(chunk_batch)\n",
    "    \n",
    "            chunk_batch_torch = autograd.Variable(torch.from_numpy(chunk_batch).cuda(), requires_grad=False)\n",
    "            rev_chunk_batch_torch = autograd.Variable(torch.from_numpy(rev_chunk_batch).cuda(), requires_grad=False)\n",
    "    \n",
    "            unscaled_logits, _, outputs = model(\n",
    "                chunk_batch_torch,\n",
    "                output_mode='argmax', feed_mode='sampling'\n",
    "            )\n",
    "            eval_loss = loss_function(unscaled_logits.view(-1, vocab_size), rev_chunk_batch_torch.view(-1))\n",
    "            eval_acc = torch.mean(torch.eq(outputs, rev_chunk_batch_torch).float())\n",
    "\n",
    "            eval_losses[run].append(eval_loss.data.cpu().numpy().mean())\n",
    "            eval_accs[run].append(eval_acc.data.cpu().numpy().mean())\n",
    "        \n",
    "            cum_eval_loss += eval_losses[run][-1]\n",
    "            cum_eval_acc += eval_accs[run][-1]\n",
    "    \n",
    "        # Print:\n",
    "        if (step + 1) % print_skip == 0:\n",
    "            print('Step', step + 1)\n",
    "            \n",
    "            print('Train loss: {:.2f}; train accuracy: {:.2f}'.format(\n",
    "                cum_train_loss / print_skip, cum_train_acc / print_skip\n",
    "            ))\n",
    "            cum_train_loss = 0\n",
    "            cum_train_acc = 0\n",
    "            \n",
    "            if use_polyak_average:\n",
    "                print('Train loss for polyak-averaged model: {:.2f}; accuracy: {:.2f}'.format(\n",
    "                    cum_train_loss_pav / print_skip, cum_train_acc_pav / print_skip\n",
    "                ))\n",
    "                cum_train_loss_pav = 0\n",
    "                cum_train_acc_pav = 0\n",
    "            \n",
    "            if do_eval:\n",
    "                print('Eval loss: {:.2f}; eval accuracy: {:.2f}'.format(\n",
    "                    cum_eval_loss / print_skip, cum_eval_acc / print_skip\n",
    "                ))\n",
    "                cum_eval_loss = 0\n",
    "                cum_eval_acc = 0\n",
    "        \n",
    "                outputs_np = outputs.data.cpu().numpy()\n",
    "                for i in range(decode_batch_size):\n",
    "                    print('{}|  vs  |{}'.format(\n",
    "                        ''.join(list(map(id_to_char, chunk_batch[i]))),\n",
    "                        ''.join(list(map(id_to_char, outputs_np[i])))\n",
    "                    ))\n",
    "            \n",
    "            print('{:.2f}s from last print'.format(time() - last_print_time))\n",
    "            last_print_time = time()\n",
    "            print()\n",
    "    \n",
    "    print('{} steps took {:.2f}s\\n'.format(num_steps, time() - global_start_time))"
   ]
  },
  {
   "cell_type": "code",
   "execution_count": 48,
   "metadata": {
    "collapsed": true
   },
   "outputs": [],
   "source": [
    "def running_average(a, alpha=0.99):\n",
    "    av = a[:1]\n",
    "    for el in a[1:]:\n",
    "        av.append((1 - alpha) * el + alpha * av[-1])\n",
    "    return av"
   ]
  },
  {
   "cell_type": "code",
   "execution_count": 275,
   "metadata": {
    "collapsed": true
   },
   "outputs": [],
   "source": [
    "train_losses_av = []\n",
    "train_accs_av = []\n",
    "\n",
    "train_losses_pav_av = []\n",
    "train_accs_pav_av = []\n",
    "\n",
    "#eval_losses_av = []\n",
    "#eval_accs_av = []\n",
    "\n",
    "for run in range(len(train_losses)):\n",
    "    train_losses_av.append(running_average(train_losses[run]))\n",
    "    train_accs_av.append(running_average(train_accs[run]))\n",
    "\n",
    "    train_losses_pav_av.append(running_average(train_losses_pav[run]))\n",
    "    train_accs_pav_av.append(running_average(train_accs_pav[run]))\n",
    "\n",
    "    #eval_losses_av.append(running_average(eval_losses[run]))\n",
    "    #eval_accs_av.append(running_average(eval_accs[run]))\n",
    "            \n",
    "train_losses_av_mean[reinforce_strategy] = np.mean(train_losses_av, axis=0)\n",
    "train_accs_av_mean[reinforce_strategy] = np.mean(train_accs_av, axis=0)\n",
    "\n",
    "train_losses_pav_av_mean[reinforce_strategy] = np.mean(train_losses_pav_av, axis=0)\n",
    "train_accs_pav_av_mean[reinforce_strategy] = np.mean(train_accs_pav_av, axis=0)\n",
    "\n",
    "#eval_losses_av_mean[reinforce_strategy] = np.mean(eval_losses_av, axis=0)\n",
    "#eval_accs_av_mean[reinforce_strategy] = np.mean(eval_accs_av, axis=0)\n",
    "    \n",
    "train_losses_av_std[reinforce_strategy] = np.std(train_losses_av, axis=0)\n",
    "train_accs_av_std[reinforce_strategy] = np.std(train_accs_av, axis=0)\n",
    "\n",
    "train_losses_pav_av_std[reinforce_strategy] = np.std(train_losses_pav_av, axis=0)\n",
    "train_accs_pav_av_std[reinforce_strategy] = np.std(train_accs_pav_av, axis=0)\n",
    "\n",
    "#eval_losses_av_std[reinforce_strategy] = np.std(eval_losses_av, axis=0)\n",
    "#eval_accs_av_std[reinforce_strategy] = np.std(eval_accs_av, axis=0)"
   ]
  },
  {
   "cell_type": "code",
   "execution_count": 276,
   "metadata": {},
   "outputs": [
    {
     "name": "stdout",
     "output_type": "stream",
     "text": [
      "Train loss; mean: 0.12, std: 0.00\n",
      "Train accuracy; mean: 0.96, std: 0.00\n"
     ]
    },
    {
     "ename": "IndexError",
     "evalue": "index -1 is out of bounds for axis 0 with size 0",
     "output_type": "error",
     "traceback": [
      "\u001b[0;31m---------------------------------------------------------------------------\u001b[0m",
      "\u001b[0;31mIndexError\u001b[0m                                Traceback (most recent call last)",
      "\u001b[0;32m<ipython-input-276-02609477d6ea>\u001b[0m in \u001b[0;36m<module>\u001b[0;34m()\u001b[0m\n\u001b[1;32m      8\u001b[0m ))\n\u001b[1;32m      9\u001b[0m print('Train loss for polyak-averaged model; mean: {:.2f}, std: {:.2f}'.format(\n\u001b[0;32m---> 10\u001b[0;31m     \u001b[0mtrain_losses_pav_av_mean\u001b[0m\u001b[0;34m[\u001b[0m\u001b[0mreinforce_strategy\u001b[0m\u001b[0;34m]\u001b[0m\u001b[0;34m[\u001b[0m\u001b[0;34m-\u001b[0m\u001b[0;36m1\u001b[0m\u001b[0;34m]\u001b[0m\u001b[0;34m,\u001b[0m\u001b[0;34m\u001b[0m\u001b[0m\n\u001b[0m\u001b[1;32m     11\u001b[0m     \u001b[0mtrain_losses_pav_av_std\u001b[0m\u001b[0;34m[\u001b[0m\u001b[0mreinforce_strategy\u001b[0m\u001b[0;34m]\u001b[0m\u001b[0;34m[\u001b[0m\u001b[0;34m-\u001b[0m\u001b[0;36m1\u001b[0m\u001b[0;34m]\u001b[0m\u001b[0;34m\u001b[0m\u001b[0m\n\u001b[1;32m     12\u001b[0m ))\n",
      "\u001b[0;31mIndexError\u001b[0m: index -1 is out of bounds for axis 0 with size 0"
     ]
    }
   ],
   "source": [
    "print('Train loss; mean: {:.2f}, std: {:.2f}'.format(\n",
    "    train_losses_av_mean[reinforce_strategy][-1], \n",
    "    train_losses_av_std[reinforce_strategy][-1]\n",
    "))\n",
    "print('Train accuracy; mean: {:.2f}, std: {:.2f}'.format(\n",
    "    train_accs_av_mean[reinforce_strategy][-1], \n",
    "    train_accs_av_std[reinforce_strategy][-1]\n",
    "))\n",
    "print('Train loss for polyak-averaged model; mean: {:.2f}, std: {:.2f}'.format(\n",
    "    train_losses_pav_av_mean[reinforce_strategy][-1], \n",
    "    train_losses_pav_av_std[reinforce_strategy][-1]\n",
    "))\n",
    "print('Train accuracy for polyak-averaged model; mean: {:.2f}, std: {:.2f}'.format(\n",
    "    train_accs_pav_av_mean[reinforce_strategy][-1], \n",
    "    train_accs_pav_av_std[reinforce_strategy][-1]\n",
    "))\n",
    "#print('Eval loss; mean: {:.2f}, std: {:.2f}'.format(\n",
    "#    eval_losses_av_mean[reinforce_strategy][-1], \n",
    "#    eval_losses_av_std[reinforce_strategy][-1]\n",
    "#))\n",
    "#print('Eval accuracy; mean: {:.2f}, std: {:.2f}'.format(\n",
    "#    eval_accs_av_mean[reinforce_strategy][-1], \n",
    "#    eval_accs_av_std[reinforce_strategy][-1]\n",
    "#))\n"
   ]
  },
  {
   "cell_type": "code",
   "execution_count": 44,
   "metadata": {
    "collapsed": true
   },
   "outputs": [],
   "source": [
    "import matplotlib.pyplot as plt\n",
    "%matplotlib inline"
   ]
  },
  {
   "cell_type": "code",
   "execution_count": 277,
   "metadata": {},
   "outputs": [
    {
     "data": {
      "text/plain": [
       "<matplotlib.legend.Legend at 0x7fec51a61828>"
      ]
     },
     "execution_count": 277,
     "metadata": {},
     "output_type": "execute_result"
    },
    {
     "data": {
      "image/png": "[encoded data removed]",
      "text/plain": [
       "<matplotlib.figure.Figure at 0x7fec502252b0>"
      ]
     },
     "metadata": {},
     "output_type": "display_data"
    }
   ],
   "source": [
    "#strategies = ['none', 'sequence', 'element', 'argmax_advantage']\n",
    "strategies = ['none', 'argmax_advantage', 'element']\n",
    "for strategy in strategies:\n",
    "    plt.plot(train_losses_av_mean[strategy])\n",
    "    #plt.fill_between(\n",
    "    #    range(num_steps),\n",
    "    #    train_losses_av_mean[strategy] - train_losses_av_std[strategy],\n",
    "    #    train_losses_av_mean[strategy] + train_losses_av_std[strategy],\n",
    "    #    alpha=0.5\n",
    "    #)\n",
    "plt.legend(strategies)\n",
    "#for strategy in strategies:\n",
    "#    plt.plot(train_losses_pav_av_mean[strategy], '--')"
   ]
  },
  {
   "cell_type": "code",
   "execution_count": null,
   "metadata": {
    "collapsed": true
   },
   "outputs": [],
   "source": [
    "# chunk_length = 8, num_steps = 10000:\n",
    "# none: 0.03 +- 0.00\n",
    "# sequence: 0.03 +- 0.00\n",
    "# element: 0.12 +- 0.00\n",
    "\n",
    "# chunk_length = 16, num_steps = 50000:\n",
    "# none: 0.28 +- 0.01\n",
    "# sequence: 0.39 +- 0.10\n",
    "# element: 1.21 +- 0.07\n"
   ]
  },
  {
   "cell_type": "code",
   "execution_count": 279,
   "metadata": {
    "collapsed": true
   },
   "outputs": [],
   "source": [
    "av_advantage =  np.array(av_advantage)"
   ]
  },
  {
   "cell_type": "code",
   "execution_count": 280,
   "metadata": {},
   "outputs": [
    {
     "data": {
      "text/plain": [
       "[<matplotlib.lines.Line2D at 0x7fec35efa6a0>]"
      ]
     },
     "execution_count": 280,
     "metadata": {},
     "output_type": "execute_result"
    },
    {
     "data": {
      "image/png": "[encoded data removed]",
      "text/plain": [
       "<matplotlib.figure.Figure at 0x7fec51a5e390>"
      ]
     },
     "metadata": {},
     "output_type": "display_data"
    }
   ],
   "source": [
    "plt.plot(running_average(list(np.min(av_advantage_argmax, axis=1))))"
   ]
  },
  {
   "cell_type": "code",
   "execution_count": 281,
   "metadata": {},
   "outputs": [
    {
     "data": {
      "text/plain": [
       "[<matplotlib.lines.Line2D at 0x7fec35ed0ba8>]"
      ]
     },
     "execution_count": 281,
     "metadata": {},
     "output_type": "execute_result"
    },
    {
     "data": {
      "image/png": "[encoded data removed]",
      "text/plain": [
       "<matplotlib.figure.Figure at 0x7fec5156ab70>"
      ]
     },
     "metadata": {},
     "output_type": "display_data"
    }
   ],
   "source": [
    "plt.plot(running_average(list(np.max(av_advantage_argmax, axis=1))))"
   ]
  },
  {
   "cell_type": "code",
   "execution_count": 282,
   "metadata": {},
   "outputs": [
    {
     "data": {
      "text/plain": [
       "[<matplotlib.lines.Line2D at 0x7fec35f2f6a0>]"
      ]
     },
     "execution_count": 282,
     "metadata": {},
     "output_type": "execute_result"
    },
    {
     "data": {
      "image/png": "[encoded data removed]",
      "text/plain": [
       "<matplotlib.figure.Figure at 0x7fec51534828>"
      ]
     },
     "metadata": {},
     "output_type": "display_data"
    }
   ],
   "source": [
    "plt.plot(running_average(list(np.mean(av_advantage_argmax, axis=1))))"
   ]
  },
  {
   "cell_type": "code",
   "execution_count": 283,
   "metadata": {
    "collapsed": true
   },
   "outputs": [],
   "source": [
    "std_advantage =  np.array(std_advantage)"
   ]
  },
  {
   "cell_type": "code",
   "execution_count": 294,
   "metadata": {},
   "outputs": [
    {
     "data": {
      "text/plain": [
       "[<matplotlib.lines.Line2D at 0x7fec35e4a908>]"
      ]
     },
     "execution_count": 294,
     "metadata": {},
     "output_type": "execute_result"
    },
    {
     "data": {
      "image/png": "[encoded data removed]",
      "text/plain": [
       "<matplotlib.figure.Figure at 0x7fec363392b0>"
      ]
     },
     "metadata": {},
     "output_type": "display_data"
    }
   ],
   "source": [
    "plt.plot(running_average(list(np.mean(std_advantage_argmax, axis=1)), alpha=0.95))"
   ]
  },
  {
   "cell_type": "code",
   "execution_count": 286,
   "metadata": {
    "collapsed": true
   },
   "outputs": [],
   "source": [
    "grad_norms = np.array(grad_norms)"
   ]
  },
  {
   "cell_type": "code",
   "execution_count": 287,
   "metadata": {},
   "outputs": [
    {
     "data": {
      "text/plain": [
       "(10000, 15)"
      ]
     },
     "execution_count": 287,
     "metadata": {},
     "output_type": "execute_result"
    }
   ],
   "source": [
    "grad_norms.shape"
   ]
  },
  {
   "cell_type": "code",
   "execution_count": 296,
   "metadata": {},
   "outputs": [
    {
     "data": {
      "text/plain": [
       "<matplotlib.legend.Legend at 0x7fec35e0bb38>"
      ]
     },
     "execution_count": 296,
     "metadata": {},
     "output_type": "execute_result"
    },
    {
     "data": {
      "image/png": "[encoded data removed]",
      "text/plain": [
       "<matplotlib.figure.Figure at 0x7fec35f7fc50>"
      ]
     },
     "metadata": {},
     "output_type": "display_data"
    }
   ],
   "source": [
    "plt.plot(running_average(list(grad_norms_none[:, 13])))\n",
    "plt.plot(running_average(list(grad_norms_argmax[:, 13])))\n",
    "plt.legend(['none', 'argmax_advantage'])"
   ]
  },
  {
   "cell_type": "code",
   "execution_count": 295,
   "metadata": {},
   "outputs": [
    {
     "name": "stdout",
     "output_type": "stream",
     "text": [
      "torch.Size([28, 8])\n",
      "torch.Size([192, 8])\n",
      "torch.Size([192, 48])\n",
      "torch.Size([192])\n",
      "torch.Size([192])\n",
      "torch.Size([192, 8])\n",
      "torch.Size([192, 48])\n",
      "torch.Size([192])\n",
      "torch.Size([192])\n",
      "torch.Size([384, 8])\n",
      "torch.Size([384, 96])\n",
      "torch.Size([384])\n",
      "torch.Size([384])\n",
      "torch.Size([28, 96])\n",
      "torch.Size([28])\n"
     ]
    }
   ],
   "source": [
    "for param in model.parameters():\n",
    "    print(param.size())"
   ]
  },
  {
   "cell_type": "code",
   "execution_count": 278,
   "metadata": {
    "collapsed": true
   },
   "outputs": [],
   "source": [
    "av_advantage_argmax = np.copy(av_advantage)\n",
    "std_advantage_argmax = np.copy(std_advantage)\n",
    "grad_norms_argmax = np.copy(grad_norms)"
   ]
  },
  {
   "cell_type": "code",
   "execution_count": 251,
   "metadata": {
    "collapsed": true
   },
   "outputs": [],
   "source": [
    "grad_norms_none = np.copy(grad_norms)"
   ]
  },
  {
   "cell_type": "code",
   "execution_count": null,
   "metadata": {
    "collapsed": true
   },
   "outputs": [],
   "source": []
  }
 ],
 "metadata": {
  "kernelspec": {
   "display_name": "Python 3",
   "language": "python",
   "name": "python3"
  },
  "language_info": {
   "codemirror_mode": {
    "name": "ipython",
    "version": 3
   },
   "file_extension": ".py",
   "mimetype": "text/x-python",
   "name": "python",
   "nbconvert_exporter": "python",
   "pygments_lexer": "ipython3",
   "version": "3.5.2"
  }
 },
 "nbformat": 4,
 "nbformat_minor": 2
}
